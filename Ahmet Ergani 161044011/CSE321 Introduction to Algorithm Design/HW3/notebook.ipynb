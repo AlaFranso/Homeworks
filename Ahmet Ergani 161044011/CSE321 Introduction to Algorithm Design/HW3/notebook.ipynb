{
 "cells": [
  {
   "cell_type": "code",
   "execution_count": null,
   "metadata": {},
   "outputs": [],
   "source": [
    "exec(open(\"p1.py\").read())\n",
    "print(\"In this part I read the XLS file using xlrd\")\n",
    "print(\"I implemented a basic BFS function using a queue\")\n",
    "print(\"I implemened a basic recursive DFS function\")"
   ]
  },
  {
   "cell_type": "code",
   "execution_count": null,
   "metadata": {},
   "outputs": [],
   "source": [
    "print(\"This function asks for you you to enter n and m values then initiates the game\")\n",
    "print\"(you can exit by giving input: '0' during game\")\n",
    "exec(open(\"p2.py\").read())"
   ]
  },
  {
   "cell_type": "code",
   "execution_count": null,
   "metadata": {},
   "outputs": [],
   "source": [
    "exec(open(\"p3.py\").read())\n",
    "print(\"This function starts checking from mid and goes to the necessary half till it finds a matchng index\")\n",
    "print(\"returns -1 if it can't\")"
   ]
  },
  {
   "cell_type": "code",
   "execution_count": null,
   "metadata": {},
   "outputs": [],
   "source": [
    "exec(open(\"p4.py\").read())\n",
    "print(\"This recursive function looks at the max sum of the left half, the right half, and the crossing between them at each call\")"
   ]
  }
 ],
 "metadata": {
  "kernelspec": {
   "display_name": "Python 3",
   "language": "python",
   "name": "python3"
  },
  "language_info": {
   "codemirror_mode": {
    "name": "ipython",
    "version": 3
   },
   "file_extension": ".py",
   "mimetype": "text/x-python",
   "name": "python",
   "nbconvert_exporter": "python",
   "pygments_lexer": "ipython3",
   "version": "3.7.1"
  }
 },
 "nbformat": 4,
 "nbformat_minor": 2
}
